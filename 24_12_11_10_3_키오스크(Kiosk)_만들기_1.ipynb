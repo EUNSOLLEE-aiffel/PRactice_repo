{
  "nbformat": 4,
  "nbformat_minor": 0,
  "metadata": {
    "colab": {
      "provenance": [],
      "authorship_tag": "ABX9TyNgUec/6RU6xiWCbET/S2Fc",
      "include_colab_link": true
    },
    "kernelspec": {
      "name": "python3",
      "display_name": "Python 3"
    },
    "language_info": {
      "name": "python"
    }
  },
  "cells": [
    {
      "cell_type": "markdown",
      "metadata": {
        "id": "view-in-github",
        "colab_type": "text"
      },
      "source": [
        "<a href=\"https://colab.research.google.com/github/EUNSOLLEE-aiffel/PRactice_repo/blob/main/24_12_11_10_3_%ED%82%A4%EC%98%A4%EC%8A%A4%ED%81%AC(Kiosk)_%EB%A7%8C%EB%93%A4%EA%B8%B0_1.ipynb\" target=\"_parent\"><img src=\"https://colab.research.google.com/assets/colab-badge.svg\" alt=\"Open In Colab\"/></a>"
      ]
    },
    {
      "cell_type": "code",
      "execution_count": 36,
      "metadata": {
        "id": "gwTib0bfxAMQ"
      },
      "outputs": [],
      "source": [
        "# 문제 2-1. Kiosk 클래스를 생성합니다.\n",
        "# 전체 메뉴와 가격\n",
        "menu = ['americano', 'latte', 'mocha', 'yuza_tea', 'green_tea', 'choco_latte']\n",
        "price = [2000, 3000, 3000, 2500, 2500, 3000]\n",
        "\n",
        "class Kiosk:\n",
        "    def __init__(self):\n",
        "        self.menu = menu\n",
        "        self.price = price\n",
        "\n",
        "    # 메뉴 출력 메서드\n",
        "    def menu_print(self):\n",
        "        for i in range(len(self.menu)):  # 메뉴의 개수만큼 반복해서\n",
        "            print(i+1, self.menu[i], ' : ', self.price[i])  # 메뉴와 가격을 출력합니다."
      ]
    },
    {
      "cell_type": "code",
      "source": [
        "a = Kiosk()  # 객체 생성\n",
        "a.menu_print()  # 메뉴 출력"
      ],
      "metadata": {
        "colab": {
          "base_uri": "https://localhost:8080/"
        },
        "id": "KUzPhs7GyFdA",
        "outputId": "8dbdd92b-0f98-42a3-b162-9b37a2cdb287"
      },
      "execution_count": 37,
      "outputs": [
        {
          "output_type": "stream",
          "name": "stdout",
          "text": [
            "1 americano  :  2000\n",
            "2 latte  :  3000\n",
            "3 mocha  :  3000\n",
            "4 yuza_tea  :  2500\n",
            "5 green_tea  :  2500\n",
            "6 choco_latte  :  3000\n"
          ]
        }
      ]
    },
    {
      "cell_type": "code",
      "source": [
        "# 문제 2-2. 주문 메서드\n",
        "# 음료의 이름과 가격을 출력하세요.\n",
        "\n",
        "menu = ['americano', 'latte', 'mocha', 'yuza_tea', 'green_tea', 'choco_latte']\n",
        "price = [2000, 3000, 3000, 2500, 2500, 3000]\n",
        "\n",
        "class Kiosk:\n",
        "    def __init__(self):\n",
        "        self.menu = menu\n",
        "        self.price = price\n",
        "\n",
        "    # 메뉴 출력 메서드\n",
        "    def menu_print(self):\n",
        "        for i in range(len(self.menu)):  # 메뉴의 개수만큼 반복해서\n",
        "            print(i+1, self.menu[i], ' : ', self.price[i])  # 메뉴와 가격을 출력합니다.\n",
        "\n",
        "    def menu_select(self):\n",
        "        print()  # 줄 바꿈\n",
        "        n = 0\n",
        "        while n < 1 or len(menu) < n:\n",
        "            n = int(input(\"음료 번호를 입력하세요 : \"))  # 음료 번호 입력\n",
        "\n",
        "            # 메뉴판에 있는 음료 번호일때\n",
        "            if 1 <= n & n <= len(menu):\n",
        "                self.price_sum = self.price[n-1]  # 선택 음료의 가격\n",
        "                # 문제 2-2의 답을 입력하세요.\n",
        "                print(self.menu[n-1], ' : ', self.price[n-1], '원')  # 메뉴\n",
        "\n",
        "             # 메뉴판에 없는 번호일 때\n",
        "            else:\n",
        "                print(\"없는 메뉴입니다. 다시 주문해 주세요.\")"
      ],
      "metadata": {
        "id": "IWcfBLdOyJ5P"
      },
      "execution_count": 38,
      "outputs": []
    },
    {
      "cell_type": "code",
      "source": [
        "# 아메리카노 주문해보기\n",
        "a = Kiosk()  # 객체 생성\n",
        "a.menu_print()  # 메뉴 출력\n",
        "a.menu_select()  # 아메리카노 주문"
      ],
      "metadata": {
        "colab": {
          "base_uri": "https://localhost:8080/"
        },
        "id": "9TFsIFS_xed9",
        "outputId": "94fb84fe-367a-42b1-dd3d-3c0300bafa6c"
      },
      "execution_count": 39,
      "outputs": [
        {
          "output_type": "stream",
          "name": "stdout",
          "text": [
            "1 americano  :  2000\n",
            "2 latte  :  3000\n",
            "3 mocha  :  3000\n",
            "4 yuza_tea  :  2500\n",
            "5 green_tea  :  2500\n",
            "6 choco_latte  :  3000\n",
            "\n",
            "음료 번호를 입력하세요 : 1\n",
            "americano  :  2000 원\n"
          ]
        }
      ]
    },
    {
      "cell_type": "code",
      "source": [
        "# 문제 2-3. 주문 메서드\n",
        "# 음료의 온도에 따라 temp 변수를 \"HOT\" 또는 \"ICE\"로 지정하세요.\n",
        "\n",
        "class Kiosk:\n",
        "    def __init__(self):\n",
        "        self.menu = menu\n",
        "        self.price = price\n",
        "\n",
        "    # 메뉴 출력 메서드\n",
        "    def menu_print(self):\n",
        "        for i in range(len(self.menu)):\n",
        "            print(i + 1, self.menu[i], ' : ', self.price[i], '원')\n",
        "\n",
        "    # 주문 메서드\n",
        "    def menu_select(self):\n",
        "        print()  # 줄 바꿈\n",
        "        n = 0\n",
        "        while n < 1 or len(menu) < n:  # 메뉴 범위를 벗어나지 않는지 확인\n",
        "            n = int(input(\"음료 번호를 입력하세요 : \"))  # 음료 번호 입력\n",
        "\n",
        "            # 메뉴판에 있는 음료 번호일때\n",
        "            if 1 <= n & n <= len(menu):  # 메뉴 인덱스 확인\n",
        "                self.price_sum = self.price[n-1]  # 선택 음료의 가격\n",
        "\n",
        "            # 메뉴판에 없는 번호일 때\n",
        "            else:\n",
        "                print(\"없는 메뉴입니다. 다시 주문해 주세요.\")\n",
        "\n",
        "        # 음료 온도 물어보기\n",
        "        t = 0  # 기본값을 넣어주고\n",
        "        while t != 1 and t != 2:  # 1이나 2를 입력할 때까지 물어보기\n",
        "            t= int(input(\"HOT 음료는 1을, ICE 음료는 2를 입력하세요 : \"))\n",
        "            # 문제 2-3. 음료의 온도에 따라 temp 변수를 \"HOT\" 또는 \"ICE\"로 지정하세요.\n",
        "            # 힌트: if문을 활용해보세요.\n",
        "            if t == 1:\n",
        "                self.temp = \"HOT\"\n",
        "            if t == 2:\n",
        "                self.temp = \"ICE\"\n",
        "            else:\n",
        "                print(\"1과 2 중 하나를 입력하세요.\\n\")\n",
        "        print('주문 음료 : ', self.temp, self.menu[n-1], ' : ', self.price[n-1], '원')  # 온도 속성을 추가한 주문 결과 출력"
      ],
      "metadata": {
        "id": "aSeqXZQz1RS2"
      },
      "execution_count": 41,
      "outputs": []
    },
    {
      "cell_type": "code",
      "source": [
        "# 아이스 초코라떼 주문해보기\n",
        "a = Kiosk()  # 객체 생성\n",
        "a.menu_print()  # 메뉴 출력\n",
        "a.menu_select()"
      ],
      "metadata": {
        "colab": {
          "base_uri": "https://localhost:8080/"
        },
        "id": "msl_FcOV1gT8",
        "outputId": "6eafbc20-7060-43f4-e3fb-9352a38ceee3"
      },
      "execution_count": 42,
      "outputs": [
        {
          "output_type": "stream",
          "name": "stdout",
          "text": [
            "1 americano  :  2000 원\n",
            "2 latte  :  3000 원\n",
            "3 mocha  :  3000 원\n",
            "4 yuza_tea  :  2500 원\n",
            "5 green_tea  :  2500 원\n",
            "6 choco_latte  :  3000 원\n",
            "\n",
            "음료 번호를 입력하세요 : 6\n",
            "HOT 음료는 1을, ICE 음료는 2를 입력하세요 : 2\n",
            "주문 음료 :  ICE choco_latte  :  3000 원\n"
          ]
        }
      ]
    },
    {
      "cell_type": "code",
      "source": [
        "# 문제 2-4. 추가 주문\n",
        "# 추가 음료의 온도를 입력받고, 가격 리스트와 주문 리스트, 합계 금액을 업데이트합니다.\n",
        "\n",
        "menu = ['americano', 'latte', 'mocha', 'yuza_tea', 'green_tea', 'choco_latte']\n",
        "price = [2000, 3000, 3000, 2500, 2500, 3000]\n",
        "\n",
        "class Kiosk:\n",
        "    def __init__(self):\n",
        "        self.menu = menu\n",
        "        self.price = price\n",
        "\n",
        "    # 메뉴 출력 메서드\n",
        "    def menu_print(self):\n",
        "        for i in range(len(self.menu)):  # 메뉴의 개수만큼 반복해서\n",
        "            print(i+1, self.menu[i], ' : ', self.price[i])  # 메뉴와 가격을 출력합니다.\n",
        "\n",
        "    # 주문 메서드\n",
        "    def menu_select(self):\n",
        "        self.order_menu = []  # 주문 리스트\n",
        "        self.order_price = []  # 가격 리스트\n",
        "\n",
        "        n = 0\n",
        "        while n < 1 or len(menu) < n:\n",
        "            n = int(input(\"음료를 번호를 입력하세요 : \"))  # 음료 번호 입력\n",
        "\n",
        "            # 메뉴판에 있는 음료 번호일 때\n",
        "            if 1 <= n <= len(menu):\n",
        "                self.order_price.append(self.price[n-1])  # 가격 리스트에 추가합니다.\n",
        "                self.price_sum = self.price[n-1]  # 합계 금액\n",
        "\n",
        "            # 메뉴판에 없는 번호일 때\n",
        "            else:\n",
        "                print(\"없는 메뉴입니다. 다시 주문해 주세요.\")\n",
        "\n",
        "        # 음료 온도 물어보기\n",
        "        t = 0  # 기본값을 넣어주고\n",
        "        while t != 1 and t != 2:  # 1이나 2를 입력할 때까지 물어보기\n",
        "            t= int(input(\"HOT 음료는 1을, ICE 음료는 2를 입력하세요 : \"))\n",
        "            if t == 1:\n",
        "                self.temp = \"HOT\"\n",
        "            if t == 2:\n",
        "                self.temp = \"ICE\"\n",
        "            else:\n",
        "                print(\"1과 2 중 하나를 입력하세요.\\n\")\n",
        "\n",
        "        self.order_menu.append(self.temp + ' ' + self.menu[n-1])  # 주문 리스트에 추가합니다.\n",
        "        print('주문 음료 : ', self.temp, self.menu[n-1], ' : ', self.price[n-1], '원')  # 온도 속성을 추가한 주문 결과를 출력합니다.\n",
        "\n",
        "        # 추가 주문 또는 지불\n",
        "        while n != 0:  # 지불을 선택하기 전까지 반복합니다.\n",
        "            print()  # 줄 바꾸면서\n",
        "            n = int(input(\"추가 주문은 음료 번호를, 지불은 0을 누르세요 : \"))  # 추가 주문 또는 지불\n",
        "            if n > 0 and n < len(self.menu) + 1:\n",
        "                # 추가 음료 온도\n",
        "                t = 0\n",
        "                while t != 1 and t != 2:\n",
        "                    t = int(input(\"HOT 음료는 1을, ICE 음료는 2를 입력하세요 : \"))\n",
        "                    if t == 1:\n",
        "                        self.temp = \"HOT\"\n",
        "                    elif t == 2:\n",
        "                        self.temp = \"ICE\"\n",
        "                    else:\n",
        "                        print(\"1과 2 중 하나를 입력하세요.\\n\")\n",
        "\n",
        "                # 주문 리스트와 가격 리스트 업데이트\n",
        "                self.order_menu.append(self.temp + ' ' + self.menu[n-1])  # 추가 주문 리스트에 추가\n",
        "                self.order_price.append(self.price[n-1])  # 추가 가격 리스트에 추가\n",
        "                self.price_sum += self.price[n-1]  # 합계 금액 업데이트\n",
        "\n",
        "                print('추가 주문 음료 : ', self.temp, self.menu[n-1], ' : ', self.price[n-1], '원\\n', '합계 : ', self.price_sum, '원')\n",
        "            elif n == 0:  # 지불을 입력하면\n",
        "                print(\"주문이 완료되었습니다.\")\n",
        "                print(self.order_menu, self.order_price)  # 확인을 위한 리스트를 출력\n",
        "            else:  # 없는 번호를 입력할 때\n",
        "                print(\"없는 메뉴입니다. 다시 주문해 주세요.\")"
      ],
      "metadata": {
        "id": "rtOePY79x8s5"
      },
      "execution_count": 43,
      "outputs": []
    },
    {
      "cell_type": "code",
      "source": [
        "Kiosk.menu_select = menu_select"
      ],
      "metadata": {
        "id": "AQL-2ODz1zUh"
      },
      "execution_count": null,
      "outputs": []
    },
    {
      "cell_type": "code",
      "source": [
        "1# 5가지 이상의 음료를 주문하고 리스트 확인하기\n",
        "a = Kiosk()  # 객체 생성\n",
        "a.menu_print()  # 메뉴 출력\n",
        "a.menu_select()  # 주문"
      ],
      "metadata": {
        "colab": {
          "base_uri": "https://localhost:8080/"
        },
        "id": "rP-BcTqi2jlz",
        "outputId": "e90d546b-6415-49ed-d8e5-de2278beb3ac"
      },
      "execution_count": 46,
      "outputs": [
        {
          "output_type": "stream",
          "name": "stdout",
          "text": [
            "1 americano  :  2000\n",
            "2 latte  :  3000\n",
            "3 mocha  :  3000\n",
            "4 yuza_tea  :  2500\n",
            "5 green_tea  :  2500\n",
            "6 choco_latte  :  3000\n",
            "음료를 번호를 입력하세요 : 2\n",
            "HOT 음료는 1을, ICE 음료는 2를 입력하세요 : 1\n",
            "1과 2 중 하나를 입력하세요.\n",
            "\n",
            "주문 음료 :  HOT latte  :  3000 원\n",
            "\n",
            "추가 주문은 음료 번호를, 지불은 0을 누르세요 : 6\n",
            "HOT 음료는 1을, ICE 음료는 2를 입력하세요 : 2\n",
            "추가 주문 음료 :  ICE choco_latte  :  3000 원\n",
            " 합계 :  6000 원\n",
            "\n",
            "추가 주문은 음료 번호를, 지불은 0을 누르세요 : 0\n",
            "주문이 완료되었습니다.\n",
            "['HOT latte', 'ICE choco_latte'] [3000, 3000]\n"
          ]
        }
      ]
    }
  ]
}